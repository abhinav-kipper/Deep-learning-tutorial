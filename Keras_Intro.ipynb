{
 "cells": [
  {
   "cell_type": "code",
   "execution_count": 1,
   "metadata": {},
   "outputs": [
    {
     "name": "stderr",
     "output_type": "stream",
     "text": [
      "Using TensorFlow backend.\n"
     ]
    }
   ],
   "source": [
    "from keras.models import Sequential\n",
    "from keras.layers import Dense"
   ]
  },
  {
   "cell_type": "code",
   "execution_count": 2,
   "metadata": {
    "collapsed": true
   },
   "outputs": [],
   "source": [
    "#Creating a model\n",
    "model=Sequential()"
   ]
  },
  {
   "cell_type": "code",
   "execution_count": 3,
   "metadata": {
    "collapsed": true
   },
   "outputs": [],
   "source": [
    "#Breast Cancer  dataset  use-case\n",
    "#Adding  layers\n",
    "layer1=Dense(units=32, activation='relu',input_dim=30)\n",
    "model.add(layer1)\n",
    "model.add(Dense(units=16,activation='relu'))\n",
    "model.add(Dense(units=1,activation='sigmoid')) #output layer has 1 as binary classfication\n",
    "#BY DEFAULT USE-BIAS IS TRUE"
   ]
  },
  {
   "cell_type": "code",
   "execution_count": 4,
   "metadata": {
    "collapsed": true
   },
   "outputs": [],
   "source": [
    "#compile - 1.optimizer 2.loss fn (different for class/reg) 3.metrics (eg accuracy for classfication or sum of squares for regression)\n",
    "model.compile(optimizer='adam',loss='binary_crossentropy',metrics=['accuracy']) #categorical cross entropy for multiple  classes"
   ]
  },
  {
   "cell_type": "code",
   "execution_count": 5,
   "metadata": {},
   "outputs": [],
   "source": [
    "#load data and  FIT (x,y,epochs=1 (default) (no of iterations), batch_size=32(default), validation data (after every epoch it will tell accuracy on that) )\n",
    "from sklearn import datasets\n",
    "cancer=datasets.load_breast_cancer()\n",
    "from sklearn.model_selection import train_test_split\n",
    "\n",
    "x_train,x_test,y_train,y_test=train_test_split(cancer.data,cancer.target,test_size=0.2,random_state=0)\n"
   ]
  },
  {
   "cell_type": "code",
   "execution_count": 6,
   "metadata": {
    "collapsed": true
   },
   "outputs": [],
   "source": [
    "#SCaling\n",
    "from sklearn.preprocessing import StandardScaler\n",
    "sc=StandardScaler()\n",
    "x_train=sc.fit_transform(x_train)\n",
    "x_test=sc.transform(x_test)"
   ]
  },
  {
   "cell_type": "code",
   "execution_count": 8,
   "metadata": {},
   "outputs": [
    {
     "name": "stdout",
     "output_type": "stream",
     "text": [
      "Train on 455 samples, validate on 114 samples\n",
      "Epoch 1/20\n",
      "455/455 [==============================] - 0s 59us/step - loss: 0.0703 - acc: 0.9824 - val_loss: 0.0998 - val_acc: 0.9561\n",
      "Epoch 2/20\n",
      "455/455 [==============================] - 0s 46us/step - loss: 0.0679 - acc: 0.9824 - val_loss: 0.0983 - val_acc: 0.9561\n",
      "Epoch 3/20\n",
      "455/455 [==============================] - 0s 101us/step - loss: 0.0657 - acc: 0.9824 - val_loss: 0.0976 - val_acc: 0.9561\n",
      "Epoch 4/20\n",
      "455/455 [==============================] - 0s 90us/step - loss: 0.0638 - acc: 0.9824 - val_loss: 0.0966 - val_acc: 0.9561\n",
      "Epoch 5/20\n",
      "455/455 [==============================] - 0s 57us/step - loss: 0.0622 - acc: 0.9824 - val_loss: 0.0958 - val_acc: 0.9561\n",
      "Epoch 6/20\n",
      "455/455 [==============================] - 0s 53us/step - loss: 0.0607 - acc: 0.9846 - val_loss: 0.0947 - val_acc: 0.9561\n",
      "Epoch 7/20\n",
      "455/455 [==============================] - 0s 53us/step - loss: 0.0593 - acc: 0.9824 - val_loss: 0.0937 - val_acc: 0.9561\n",
      "Epoch 8/20\n",
      "455/455 [==============================] - 0s 90us/step - loss: 0.0582 - acc: 0.9824 - val_loss: 0.0938 - val_acc: 0.9561\n",
      "Epoch 9/20\n",
      "455/455 [==============================] - 0s 70us/step - loss: 0.0570 - acc: 0.9846 - val_loss: 0.0928 - val_acc: 0.9561\n",
      "Epoch 10/20\n",
      "455/455 [==============================] - 0s 77us/step - loss: 0.0558 - acc: 0.9868 - val_loss: 0.0922 - val_acc: 0.9561\n",
      "Epoch 11/20\n",
      "455/455 [==============================] - 0s 66us/step - loss: 0.0547 - acc: 0.9890 - val_loss: 0.0917 - val_acc: 0.9561\n",
      "Epoch 12/20\n",
      "455/455 [==============================] - 0s 81us/step - loss: 0.0536 - acc: 0.9890 - val_loss: 0.0914 - val_acc: 0.9561\n",
      "Epoch 13/20\n",
      "455/455 [==============================] - 0s 68us/step - loss: 0.0528 - acc: 0.9868 - val_loss: 0.0911 - val_acc: 0.9561\n",
      "Epoch 14/20\n",
      "455/455 [==============================] - 0s 68us/step - loss: 0.0515 - acc: 0.9868 - val_loss: 0.0918 - val_acc: 0.9561\n",
      "Epoch 15/20\n",
      "455/455 [==============================] - 0s 92us/step - loss: 0.0506 - acc: 0.9890 - val_loss: 0.0918 - val_acc: 0.9561\n",
      "Epoch 16/20\n",
      "455/455 [==============================] - 0s 88us/step - loss: 0.0495 - acc: 0.9890 - val_loss: 0.0914 - val_acc: 0.9561\n",
      "Epoch 17/20\n",
      "455/455 [==============================] - 0s 83us/step - loss: 0.0489 - acc: 0.9890 - val_loss: 0.0904 - val_acc: 0.9561\n",
      "Epoch 18/20\n",
      "455/455 [==============================] - 0s 101us/step - loss: 0.0477 - acc: 0.9890 - val_loss: 0.0900 - val_acc: 0.9561\n",
      "Epoch 19/20\n",
      "455/455 [==============================] - 0s 81us/step - loss: 0.0471 - acc: 0.9890 - val_loss: 0.0899 - val_acc: 0.9561\n",
      "Epoch 20/20\n",
      "455/455 [==============================] - 0s 68us/step - loss: 0.0459 - acc: 0.9890 - val_loss: 0.0898 - val_acc: 0.9561\n"
     ]
    },
    {
     "data": {
      "text/plain": [
       "<keras.callbacks.History at 0x2449e4ba2e8>"
      ]
     },
     "execution_count": 8,
     "metadata": {},
     "output_type": "execute_result"
    }
   ],
   "source": [
    "model.fit(x_train,y_train,epochs=20,batch_size=50,validation_data=(x_test,y_test))"
   ]
  },
  {
   "cell_type": "code",
   "execution_count": 10,
   "metadata": {},
   "outputs": [
    {
     "name": "stdout",
     "output_type": "stream",
     "text": [
      "[[1.05845497e-03]\n",
      " [9.55637932e-01]\n",
      " [9.99054849e-01]\n",
      " [9.92656231e-01]\n",
      " [9.99174535e-01]\n",
      " [9.97456610e-01]\n",
      " [9.98892128e-01]\n",
      " [9.98573303e-01]\n",
      " [9.99886632e-01]\n",
      " [9.99897361e-01]\n",
      " [8.84930849e-01]\n",
      " [8.82655799e-01]\n",
      " [9.99865890e-01]\n",
      " [1.68488905e-01]\n",
      " [4.09943819e-01]\n",
      " [3.24623217e-03]\n",
      " [9.99872684e-01]\n",
      " [7.53038103e-06]\n",
      " [1.91551680e-05]\n",
      " [1.42840104e-08]\n",
      " [7.64064083e-04]\n",
      " [2.70159892e-03]\n",
      " [9.82097328e-01]\n",
      " [9.97854888e-01]\n",
      " [1.16869858e-04]\n",
      " [9.99012113e-01]\n",
      " [9.99847531e-01]\n",
      " [8.10345169e-03]\n",
      " [9.98310566e-01]\n",
      " [1.74129536e-06]\n",
      " [9.99737322e-01]\n",
      " [1.76305490e-04]\n",
      " [9.39762354e-01]\n",
      " [3.51333903e-04]\n",
      " [9.99962568e-01]\n",
      " [8.58837971e-04]\n",
      " [9.85239863e-01]\n",
      " [2.32825536e-04]\n",
      " [9.90154982e-01]\n",
      " [2.69633788e-03]\n",
      " [8.02376345e-02]\n",
      " [9.99817789e-01]\n",
      " [7.41366297e-02]\n",
      " [9.99816239e-01]\n",
      " [9.62419689e-01]\n",
      " [3.78569638e-08]\n",
      " [9.99984145e-01]\n",
      " [9.62084949e-01]\n",
      " [9.97847438e-01]\n",
      " [4.44246371e-06]\n",
      " [6.88184373e-05]\n",
      " [2.15940773e-01]\n",
      " [4.18515119e-05]\n",
      " [9.97545898e-01]\n",
      " [9.95481849e-01]\n",
      " [9.99115288e-01]\n",
      " [9.98734295e-01]\n",
      " [9.98518765e-01]\n",
      " [9.95327473e-01]\n",
      " [5.04388487e-09]\n",
      " [1.24032255e-02]\n",
      " [2.12375214e-03]\n",
      " [9.99773443e-01]\n",
      " [9.93501723e-01]\n",
      " [1.59938668e-03]\n",
      " [9.39188778e-01]\n",
      " [4.77624362e-14]\n",
      " [1.81504493e-06]\n",
      " [2.78534571e-06]\n",
      " [9.98705983e-01]\n",
      " [6.44961596e-01]\n",
      " [3.90888181e-06]\n",
      " [9.97737408e-01]\n",
      " [1.40107721e-01]\n",
      " [9.60936859e-07]\n",
      " [9.79619384e-01]\n",
      " [9.99822438e-01]\n",
      " [9.56996918e-01]\n",
      " [9.99503136e-01]\n",
      " [9.99836206e-01]\n",
      " [1.32750683e-02]\n",
      " [3.98119843e-10]\n",
      " [4.27908617e-06]\n",
      " [9.99591768e-01]\n",
      " [1.26878908e-02]\n",
      " [9.98681247e-01]\n",
      " [9.99852657e-01]\n",
      " [9.99974132e-01]\n",
      " [4.75391753e-05]\n",
      " [4.56900880e-12]\n",
      " [9.99891281e-01]\n",
      " [3.61167997e-01]\n",
      " [2.82509118e-01]\n",
      " [6.26936981e-07]\n",
      " [9.99407172e-01]\n",
      " [9.98461246e-01]\n",
      " [3.22835319e-07]\n",
      " [9.89644170e-01]\n",
      " [9.95353103e-01]\n",
      " [9.94793236e-01]\n",
      " [9.99976158e-01]\n",
      " [9.97996092e-01]\n",
      " [9.93448436e-01]\n",
      " [8.22756588e-01]\n",
      " [7.30405191e-06]\n",
      " [9.97302651e-01]\n",
      " [2.47714183e-07]\n",
      " [8.73891056e-01]\n",
      " [6.29990399e-01]\n",
      " [9.31489825e-01]\n",
      " [9.68289793e-01]\n",
      " [1.97400368e-05]\n",
      " [7.68509344e-05]\n",
      " [9.27619934e-01]]\n"
     ]
    }
   ],
   "source": [
    "predictions=model.predict(x_test)\n",
    "print(predictions)\n"
   ]
  },
  {
   "cell_type": "code",
   "execution_count": 12,
   "metadata": {},
   "outputs": [
    {
     "name": "stdout",
     "output_type": "stream",
     "text": [
      "114/114 [==============================] - 0s 70us/step\n",
      "[0.08982304810431965, 0.9561403519228885]\n"
     ]
    }
   ],
   "source": [
    "score=model.evaluate(x_test,y_test)\n",
    "print (score) #loss and accuracy"
   ]
  },
  {
   "cell_type": "code",
   "execution_count": null,
   "metadata": {
    "collapsed": true
   },
   "outputs": [],
   "source": []
  }
 ],
 "metadata": {
  "kernelspec": {
   "display_name": "Python 3",
   "language": "python",
   "name": "python3"
  },
  "language_info": {
   "codemirror_mode": {
    "name": "ipython",
    "version": 3
   },
   "file_extension": ".py",
   "mimetype": "text/x-python",
   "name": "python",
   "nbconvert_exporter": "python",
   "pygments_lexer": "ipython3",
   "version": "3.6.2"
  }
 },
 "nbformat": 4,
 "nbformat_minor": 2
}
